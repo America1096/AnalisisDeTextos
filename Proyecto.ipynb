{
  "nbformat": 4,
  "nbformat_minor": 0,
  "metadata": {
    "colab": {
      "name": "Proyecto.ipynb",
      "version": "0.3.2",
      "provenance": [],
      "collapsed_sections": [],
      "include_colab_link": true
    },
    "kernelspec": {
      "name": "python3",
      "display_name": "Python 3"
    }
  },
  "cells": [
    {
      "cell_type": "markdown",
      "metadata": {
        "id": "view-in-github",
        "colab_type": "text"
      },
      "source": [
        "<a href=\"https://colab.research.google.com/github/America1096/AnalisisDeTextos/blob/master/Proyecto.ipynb\" target=\"_parent\"><img src=\"https://colab.research.google.com/assets/colab-badge.svg\" alt=\"Open In Colab\"/></a>"
      ]
    },
    {
      "cell_type": "code",
      "metadata": {
        "id": "A2D6QqigzybC",
        "colab_type": "code",
        "colab": {}
      },
      "source": [
        "from chatterbot import ChatBot"
      ],
      "execution_count": 0,
      "outputs": []
    },
    {
      "cell_type": "code",
      "metadata": {
        "id": "7fM4SeQSQna4",
        "colab_type": "code",
        "colab": {
          "base_uri": "https://localhost:8080/",
          "height": 119
        },
        "outputId": "f8dc5317-a895-48f8-fb4a-582fe62288b9"
      },
      "source": [
        "chatbot = ChatBot('Tezca')"
      ],
      "execution_count": 65,
      "outputs": [
        {
          "output_type": "stream",
          "text": [
            "[nltk_data] Downloading package stopwords to /root/nltk_data...\n",
            "[nltk_data]   Package stopwords is already up-to-date!\n",
            "[nltk_data] Downloading package averaged_perceptron_tagger to\n",
            "[nltk_data]     /root/nltk_data...\n",
            "[nltk_data]   Package averaged_perceptron_tagger is already up-to-\n",
            "[nltk_data]       date!\n"
          ],
          "name": "stdout"
        }
      ]
    },
    {
      "cell_type": "code",
      "metadata": {
        "id": "hZJlt47SQFwR",
        "colab_type": "code",
        "colab": {
          "base_uri": "https://localhost:8080/",
          "height": 34
        },
        "outputId": "8a0ebf22-0234-4f12-8f2f-30943b888885"
      },
      "source": [
        "from chatterbot.trainers import ListTrainer\n",
        "\n",
        "conversation = [\n",
        "    \"¿Qué tal te encuentras el dia de hoy?\",\n",
        "    \"El día de hoy no me siento bien ya que no le entiendo a mis materias\",\n",
        "    \"¿Qué materia te está costando más trabajo?\",\n",
        "    \"En general todas, matematicas, química, español, geografía, historia\",\n",
        "    \"¿Que te motivaría para que estudiaras más?\",\n",
        "    \"Que los maestros fueran más flexibles\",\n",
        "    \"Que hagan más dinámicas sus clases\",\n",
        "    \"¿Para ti que sería hacer más flexibles o dinámicas las clases?\",\n",
        "    \"Hacer mas actividades al aire libre o realizar más practicas\",\n",
        "    \"¿Como considerarías que un maestro es flexible?\",\n",
        "    \"Que resuelva mis dudas y no deje muchas tareas\",\n",
        "    \"Entonces, ¿Crees que si el maestro fuera mas flexible te gustaría más la escuela?\",\n",
        "    \"No le entiendo a mis materias, matematicas, química, español, geografía, historia\",\n",
        "    \"¿Qué es lo que te cuestra trabajo de tus materias?\",  \n",
        "    \"El día de hoy no me siento bien ya que ya no quiero estudiar\",\n",
        "    \"¿Por qué ya no quieres estudiar?\",\n",
        "    \"Porque las materias me cuestan mucho trabajo\",\n",
        "    \"¿Que pasa cuando es fin de semestre?\",\n",
        "    \"Se me juntan todas mis tareas y trabajos\",\n",
        "    \"¿Por que no haces los trabajos con anticipacion?\",\n",
        "    \"Porque durante el semestre me ocupa mucho tiempo las tareas que me dejan\",\n",
        "    \"Me hacen bullying mis compañeros de la escuela\",\n",
        "    \"¿Por qué dejas que te maltreten?\"\n",
        "    \n",
        "]\n",
        "\n",
        "trainer = ListTrainer(chatbot)\n",
        "\n",
        "trainer.train(conversation)"
      ],
      "execution_count": 69,
      "outputs": [
        {
          "output_type": "stream",
          "text": [
            "List Trainer: [####################] 100%\n"
          ],
          "name": "stdout"
        }
      ]
    },
    {
      "cell_type": "code",
      "metadata": {
        "id": "MNbDlkTPz8dy",
        "colab_type": "code",
        "outputId": "27555133-ecb6-43c6-d4f4-e60649a2c75f",
        "colab": {
          "base_uri": "https://localhost:8080/",
          "height": 187
        }
      },
      "source": [
        "print(\"Hola, mi nombre es Tezca, ¿Cuál es el tuyo?:\")\n",
        "nombre = input(\" >>\")\n",
        "print(\"Dime\", nombre, \"¿Cuál es tu problema?: \")\n",
        "\n",
        "mytext = input(\">> \")\n",
        "\n",
        "for i in range(3):\n",
        "  response = chatbot.get_response(mytext)\n",
        "  print(response)\n",
        "  mytext = input(\">> \")\n",
        "  textaux = textaux + mytext"
      ],
      "execution_count": 70,
      "outputs": [
        {
          "output_type": "stream",
          "text": [
            "Hola, mi nombre es Tezca, ¿Cuál es el tuyo?:\n",
            " >>Lisset\n",
            "Dime Lisset ¿Cuál es tu problema?: \n",
            ">> Es fin de semestre y me siento muy nerviosa\n",
            "¿Qué materia te está costando más trabajo?\n",
            ">> En general todas, me dejan mucha tarea\n",
            "¿Que te motivaría para que estudiaras más?\n",
            ">> Quiza que me dejaran menos tarea para tener mas tiempo\n",
            "todas\n",
            ">> Pues no en todas pero si en la mayoria\n"
          ],
          "name": "stdout"
        }
      ]
    },
    {
      "cell_type": "code",
      "metadata": {
        "id": "M9lxW4dafSki",
        "colab_type": "code",
        "colab": {}
      },
      "source": [
        "from gensim.summarization import summarize\n",
        "from gensim.summarization import keywords\n",
        "from nltk.corpus import stopwords\n",
        "from nltk.tokenize import sent_tokenize\n",
        "from nltk.tokenize import word_tokenize"
      ],
      "execution_count": 0,
      "outputs": []
    },
    {
      "cell_type": "code",
      "metadata": {
        "id": "rSMklrN5jDO4",
        "colab_type": "code",
        "colab": {}
      },
      "source": [
        "from nltk import pos_tag\n",
        "\n",
        "def keyWord(text):\n",
        "\n",
        "  mytext = keywords(text)\n",
        "\n",
        "  sents = sent_tokenize(mytext,\"spanish\")\n",
        "  sent = sents[ len(sents)-1 ]\n",
        "\n",
        "  words = word_tokenize( sent )\n",
        "\n",
        "  sw = set(stopwords.words('spanish'))\n",
        "\n",
        "  new_sentence = []\n",
        "\n",
        "  for word in words:\n",
        "    if word not in sw:\n",
        "      new_sentence.append(word)\n",
        "    \n",
        "  if len(new_sentence)<1: #Si la función no encuentra ninguna palabra clave que no este dentro de las stop words\n",
        "    sents = sent_tokenize(text,\"spanish\") #Se tokeniza en español\n",
        "    sent = sents[ len(sents)-1 ] \n",
        "    \n",
        "\n",
        "    words = word_tokenize( sent )\n",
        "\n",
        "    sw = set(stopwords.words('spanish'))\n",
        "\n",
        "    new_sentence = []\n",
        "\n",
        "    for word in words:\n",
        "      if word not in sw:\n",
        "        new_sentence.append(word)\n",
        "      \n",
        "      \n",
        "    tagged = pos_tag( new_sentence )\n",
        "\n",
        "\n",
        "    aux, aux2 = [],[]\n",
        "\n",
        "    for t in tagged:\n",
        "      aux.append(list(t))\n",
        "\n",
        "    for a in range(len(aux)):\n",
        "      if aux[a][1] == 'VBZ':\n",
        "        aux2.append(aux[a])\n",
        "      if aux[a][1] == 'NN':\n",
        "        aux2.append(aux[a])\n",
        "\n",
        "    new_sentence = aux2    \n",
        "\n",
        "  return new_sentence\n"
      ],
      "execution_count": 0,
      "outputs": []
    },
    {
      "cell_type": "code",
      "metadata": {
        "id": "0lI49yAI4-c-",
        "colab_type": "code",
        "colab": {
          "base_uri": "https://localhost:8080/",
          "height": 105
        },
        "outputId": "9dea0783-4a42-4bb5-e90d-7abed00fc011"
      },
      "source": [
        "print(\"Ahora que has hablado ¿Cuál es tu problema de forma general?\")\n",
        "\n",
        "text = input(\">> \")\n",
        "\n",
        "ns = keyWord(text)\n",
        "    \n",
        "print(\"Con todo lo que me acabas de mencionar podemos decir que tu problema radica en tu pensamiento hacia tus\", end = \" \")\n",
        "\n",
        "print(ns)\n",
        "for p in ns:\n",
        "  print(p, end = \" \")\n",
        "\n"
      ],
      "execution_count": 87,
      "outputs": [
        {
          "output_type": "stream",
          "text": [
            "Ahora que has hablado ¿Cuál es tu problema de forma general?\n",
            ">> Cuando es fin de semestre entro en muchos conflictos, siempre se me juntan todo los proyectos y tareas, he llegado a pensar que esto no es lo mio,y es que la verdad a veces pienso en dejar la carrera y dedicarme a hacer otra cosa.\n",
            "Con todo lo que me acabas de mencionar podemos decir que tu problema radica en tu pensamiento hacia tus ['conflictos']\n",
            "conflictos "
          ],
          "name": "stdout"
        }
      ]
    },
    {
      "cell_type": "code",
      "metadata": {
        "id": "U0UW9Gnve2Pw",
        "colab_type": "code",
        "colab": {
          "base_uri": "https://localhost:8080/",
          "height": 51
        },
        "outputId": "5348d6c9-b25f-455f-f3ec-de7e2182c170"
      },
      "source": [
        "print(\"¿Cómo te sientes después de haber expresado tu problema?\")\n",
        "#text = input(\">> \")\n",
        "text = \"Me di cuenta de que debo echarle ganas a lo que haga, porque ha pesar de que es dificil, también he luchado por llegar hasta acá, así que no me rendiré y acabaré mi carrera\"\n",
        "    \n",
        "for p in ns:\n",
        "  print(p[0], end = \", \")\n",
        "\n",
        "print(\"es lo importante.\", end = \" \")"
      ],
      "execution_count": 140,
      "outputs": [
        {
          "output_type": "stream",
          "text": [
            "¿Cómo te sientes después de haber expresado tu problema?\n",
            "di, debo, echarle, ganas, haga, pesar, dificil, luchado, llegar, acá, rendiré, acabaré, carrera, es lo importante. "
          ],
          "name": "stdout"
        }
      ]
    }
  ]
}